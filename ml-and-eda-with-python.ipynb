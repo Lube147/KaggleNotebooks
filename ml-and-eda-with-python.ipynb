{
 "cells": [
  {
   "cell_type": "markdown",
   "id": "f9a13bd9",
   "metadata": {
    "papermill": {
     "duration": 0.004969,
     "end_time": "2025-07-26T07:01:48.846909",
     "exception": false,
     "start_time": "2025-07-26T07:01:48.841940",
     "status": "completed"
    },
    "tags": []
   },
   "source": [
    "### Imports"
   ]
  },
  {
   "cell_type": "code",
   "execution_count": 1,
   "id": "f549c63e",
   "metadata": {
    "execution": {
     "iopub.execute_input": "2025-07-26T07:01:48.856797Z",
     "iopub.status.busy": "2025-07-26T07:01:48.856392Z",
     "iopub.status.idle": "2025-07-26T07:02:00.910284Z",
     "shell.execute_reply": "2025-07-26T07:02:00.908904Z"
    },
    "papermill": {
     "duration": 12.06134,
     "end_time": "2025-07-26T07:02:00.912603",
     "exception": false,
     "start_time": "2025-07-26T07:01:48.851263",
     "status": "completed"
    },
    "tags": []
   },
   "outputs": [],
   "source": [
    "import os\n",
    "import torch\n",
    "import seaborn as sns\n",
    "import polars as pl\n",
    "import polars.selectors as cs\n",
    "\n",
    "from tqdm import tqdm\n",
    "from torch import nn, optim\n",
    "from torch.utils.data import TensorDataset, DataLoader\n",
    "from sklearn.ensemble import AdaBoostClassifier, RandomForestClassifier, GradientBoostingClassifier\n",
    "from sklearn.neighbors import KNeighborsClassifier\n",
    "from sklearn.neural_network import MLPClassifier\n",
    "from sklearn.svm import SVC, LinearSVC\n",
    "from sklearn.preprocessing import MinMaxScaler\n",
    "from sklearn.model_selection import train_test_split\n",
    "from sklearn.metrics import accuracy_score"
   ]
  },
  {
   "cell_type": "markdown",
   "id": "6b22df0f",
   "metadata": {
    "papermill": {
     "duration": 0.00362,
     "end_time": "2025-07-26T07:02:00.920749",
     "exception": false,
     "start_time": "2025-07-26T07:02:00.917129",
     "status": "completed"
    },
    "tags": []
   },
   "source": [
    "### Dataset Loading"
   ]
  },
  {
   "cell_type": "code",
   "execution_count": 2,
   "id": "910adc2d",
   "metadata": {
    "execution": {
     "iopub.execute_input": "2025-07-26T07:02:00.930145Z",
     "iopub.status.busy": "2025-07-26T07:02:00.929711Z",
     "iopub.status.idle": "2025-07-26T07:02:01.093188Z",
     "shell.execute_reply": "2025-07-26T07:02:01.091669Z"
    },
    "papermill": {
     "duration": 0.170663,
     "end_time": "2025-07-26T07:02:01.095292",
     "exception": false,
     "start_time": "2025-07-26T07:02:00.924629",
     "status": "completed"
    },
    "tags": []
   },
   "outputs": [],
   "source": [
    "ds = pl.read_csv('/kaggle/input/college-student-placement/college_student_placement_dataset.csv')"
   ]
  },
  {
   "cell_type": "markdown",
   "id": "ea540fb9",
   "metadata": {
    "papermill": {
     "duration": 0.003612,
     "end_time": "2025-07-26T07:02:01.103145",
     "exception": false,
     "start_time": "2025-07-26T07:02:01.099533",
     "status": "completed"
    },
    "tags": []
   },
   "source": [
    "### EDA"
   ]
  },
  {
   "cell_type": "code",
   "execution_count": 3,
   "id": "73bf5ee6",
   "metadata": {
    "execution": {
     "iopub.execute_input": "2025-07-26T07:02:01.112271Z",
     "iopub.status.busy": "2025-07-26T07:02:01.111968Z",
     "iopub.status.idle": "2025-07-26T07:02:01.141942Z",
     "shell.execute_reply": "2025-07-26T07:02:01.141033Z"
    },
    "papermill": {
     "duration": 0.036596,
     "end_time": "2025-07-26T07:02:01.143615",
     "exception": false,
     "start_time": "2025-07-26T07:02:01.107019",
     "status": "completed"
    },
    "tags": []
   },
   "outputs": [
    {
     "data": {
      "text/html": [
       "<div><style>\n",
       ".dataframe > thead > tr,\n",
       ".dataframe > tbody > tr {\n",
       "  text-align: right;\n",
       "  white-space: pre-wrap;\n",
       "}\n",
       "</style>\n",
       "<small>shape: (5, 10)</small><table border=\"1\" class=\"dataframe\"><thead><tr><th>College_ID</th><th>IQ</th><th>Prev_Sem_Result</th><th>CGPA</th><th>Academic_Performance</th><th>Internship_Experience</th><th>Extra_Curricular_Score</th><th>Communication_Skills</th><th>Projects_Completed</th><th>Placement</th></tr><tr><td>str</td><td>i64</td><td>f64</td><td>f64</td><td>i64</td><td>str</td><td>i64</td><td>i64</td><td>i64</td><td>str</td></tr></thead><tbody><tr><td>&quot;CLG0030&quot;</td><td>107</td><td>6.61</td><td>6.28</td><td>8</td><td>&quot;No&quot;</td><td>8</td><td>8</td><td>4</td><td>&quot;No&quot;</td></tr><tr><td>&quot;CLG0061&quot;</td><td>97</td><td>5.52</td><td>5.37</td><td>8</td><td>&quot;No&quot;</td><td>7</td><td>8</td><td>0</td><td>&quot;No&quot;</td></tr><tr><td>&quot;CLG0036&quot;</td><td>109</td><td>5.36</td><td>5.83</td><td>9</td><td>&quot;No&quot;</td><td>3</td><td>1</td><td>1</td><td>&quot;No&quot;</td></tr><tr><td>&quot;CLG0055&quot;</td><td>122</td><td>5.47</td><td>5.75</td><td>6</td><td>&quot;Yes&quot;</td><td>1</td><td>6</td><td>1</td><td>&quot;No&quot;</td></tr><tr><td>&quot;CLG0004&quot;</td><td>96</td><td>7.91</td><td>7.69</td><td>7</td><td>&quot;No&quot;</td><td>8</td><td>10</td><td>2</td><td>&quot;No&quot;</td></tr></tbody></table></div>"
      ],
      "text/plain": [
       "shape: (5, 10)\n",
       "┌────────────┬─────┬──────────────┬──────┬───┬─────────────┬─────────────┬─────────────┬───────────┐\n",
       "│ College_ID ┆ IQ  ┆ Prev_Sem_Res ┆ CGPA ┆ … ┆ Extra_Curri ┆ Communicati ┆ Projects_Co ┆ Placement │\n",
       "│ ---        ┆ --- ┆ ult          ┆ ---  ┆   ┆ cular_Score ┆ on_Skills   ┆ mpleted     ┆ ---       │\n",
       "│ str        ┆ i64 ┆ ---          ┆ f64  ┆   ┆ ---         ┆ ---         ┆ ---         ┆ str       │\n",
       "│            ┆     ┆ f64          ┆      ┆   ┆ i64         ┆ i64         ┆ i64         ┆           │\n",
       "╞════════════╪═════╪══════════════╪══════╪═══╪═════════════╪═════════════╪═════════════╪═══════════╡\n",
       "│ CLG0030    ┆ 107 ┆ 6.61         ┆ 6.28 ┆ … ┆ 8           ┆ 8           ┆ 4           ┆ No        │\n",
       "│ CLG0061    ┆ 97  ┆ 5.52         ┆ 5.37 ┆ … ┆ 7           ┆ 8           ┆ 0           ┆ No        │\n",
       "│ CLG0036    ┆ 109 ┆ 5.36         ┆ 5.83 ┆ … ┆ 3           ┆ 1           ┆ 1           ┆ No        │\n",
       "│ CLG0055    ┆ 122 ┆ 5.47         ┆ 5.75 ┆ … ┆ 1           ┆ 6           ┆ 1           ┆ No        │\n",
       "│ CLG0004    ┆ 96  ┆ 7.91         ┆ 7.69 ┆ … ┆ 8           ┆ 10          ┆ 2           ┆ No        │\n",
       "└────────────┴─────┴──────────────┴──────┴───┴─────────────┴─────────────┴─────────────┴───────────┘"
      ]
     },
     "execution_count": 3,
     "metadata": {},
     "output_type": "execute_result"
    }
   ],
   "source": [
    "ds.head()"
   ]
  },
  {
   "cell_type": "code",
   "execution_count": 4,
   "id": "a0e7959c",
   "metadata": {
    "execution": {
     "iopub.execute_input": "2025-07-26T07:02:01.155168Z",
     "iopub.status.busy": "2025-07-26T07:02:01.154867Z",
     "iopub.status.idle": "2025-07-26T07:02:01.161909Z",
     "shell.execute_reply": "2025-07-26T07:02:01.161090Z"
    },
    "papermill": {
     "duration": 0.015109,
     "end_time": "2025-07-26T07:02:01.163467",
     "exception": false,
     "start_time": "2025-07-26T07:02:01.148358",
     "status": "completed"
    },
    "tags": []
   },
   "outputs": [
    {
     "data": {
      "text/html": [
       "<div><style>\n",
       ".dataframe > thead > tr,\n",
       ".dataframe > tbody > tr {\n",
       "  text-align: right;\n",
       "  white-space: pre-wrap;\n",
       "}\n",
       "</style>\n",
       "<small>shape: (5, 10)</small><table border=\"1\" class=\"dataframe\"><thead><tr><th>College_ID</th><th>IQ</th><th>Prev_Sem_Result</th><th>CGPA</th><th>Academic_Performance</th><th>Internship_Experience</th><th>Extra_Curricular_Score</th><th>Communication_Skills</th><th>Projects_Completed</th><th>Placement</th></tr><tr><td>str</td><td>i64</td><td>f64</td><td>f64</td><td>i64</td><td>str</td><td>i64</td><td>i64</td><td>i64</td><td>str</td></tr></thead><tbody><tr><td>&quot;CLG0021&quot;</td><td>119</td><td>8.41</td><td>8.29</td><td>4</td><td>&quot;No&quot;</td><td>1</td><td>8</td><td>0</td><td>&quot;Yes&quot;</td></tr><tr><td>&quot;CLG0098&quot;</td><td>70</td><td>9.25</td><td>9.34</td><td>7</td><td>&quot;No&quot;</td><td>0</td><td>7</td><td>2</td><td>&quot;No&quot;</td></tr><tr><td>&quot;CLG0066&quot;</td><td>89</td><td>6.08</td><td>6.25</td><td>3</td><td>&quot;Yes&quot;</td><td>3</td><td>9</td><td>5</td><td>&quot;No&quot;</td></tr><tr><td>&quot;CLG0045&quot;</td><td>107</td><td>8.77</td><td>8.92</td><td>3</td><td>&quot;No&quot;</td><td>7</td><td>5</td><td>1</td><td>&quot;No&quot;</td></tr><tr><td>&quot;CLG0060&quot;</td><td>109</td><td>9.41</td><td>9.77</td><td>8</td><td>&quot;No&quot;</td><td>3</td><td>5</td><td>5</td><td>&quot;No&quot;</td></tr></tbody></table></div>"
      ],
      "text/plain": [
       "shape: (5, 10)\n",
       "┌────────────┬─────┬──────────────┬──────┬───┬─────────────┬─────────────┬─────────────┬───────────┐\n",
       "│ College_ID ┆ IQ  ┆ Prev_Sem_Res ┆ CGPA ┆ … ┆ Extra_Curri ┆ Communicati ┆ Projects_Co ┆ Placement │\n",
       "│ ---        ┆ --- ┆ ult          ┆ ---  ┆   ┆ cular_Score ┆ on_Skills   ┆ mpleted     ┆ ---       │\n",
       "│ str        ┆ i64 ┆ ---          ┆ f64  ┆   ┆ ---         ┆ ---         ┆ ---         ┆ str       │\n",
       "│            ┆     ┆ f64          ┆      ┆   ┆ i64         ┆ i64         ┆ i64         ┆           │\n",
       "╞════════════╪═════╪══════════════╪══════╪═══╪═════════════╪═════════════╪═════════════╪═══════════╡\n",
       "│ CLG0021    ┆ 119 ┆ 8.41         ┆ 8.29 ┆ … ┆ 1           ┆ 8           ┆ 0           ┆ Yes       │\n",
       "│ CLG0098    ┆ 70  ┆ 9.25         ┆ 9.34 ┆ … ┆ 0           ┆ 7           ┆ 2           ┆ No        │\n",
       "│ CLG0066    ┆ 89  ┆ 6.08         ┆ 6.25 ┆ … ┆ 3           ┆ 9           ┆ 5           ┆ No        │\n",
       "│ CLG0045    ┆ 107 ┆ 8.77         ┆ 8.92 ┆ … ┆ 7           ┆ 5           ┆ 1           ┆ No        │\n",
       "│ CLG0060    ┆ 109 ┆ 9.41         ┆ 9.77 ┆ … ┆ 3           ┆ 5           ┆ 5           ┆ No        │\n",
       "└────────────┴─────┴──────────────┴──────┴───┴─────────────┴─────────────┴─────────────┴───────────┘"
      ]
     },
     "execution_count": 4,
     "metadata": {},
     "output_type": "execute_result"
    }
   ],
   "source": [
    "ds.tail()"
   ]
  },
  {
   "cell_type": "code",
   "execution_count": 5,
   "id": "2ab4da08",
   "metadata": {
    "execution": {
     "iopub.execute_input": "2025-07-26T07:02:01.173999Z",
     "iopub.status.busy": "2025-07-26T07:02:01.173692Z",
     "iopub.status.idle": "2025-07-26T07:02:01.274211Z",
     "shell.execute_reply": "2025-07-26T07:02:01.272958Z"
    },
    "papermill": {
     "duration": 0.10797,
     "end_time": "2025-07-26T07:02:01.276036",
     "exception": false,
     "start_time": "2025-07-26T07:02:01.168066",
     "status": "completed"
    },
    "tags": []
   },
   "outputs": [
    {
     "data": {
      "text/html": [
       "<div><style>\n",
       ".dataframe > thead > tr,\n",
       ".dataframe > tbody > tr {\n",
       "  text-align: right;\n",
       "  white-space: pre-wrap;\n",
       "}\n",
       "</style>\n",
       "<small>shape: (9, 11)</small><table border=\"1\" class=\"dataframe\"><thead><tr><th>statistic</th><th>College_ID</th><th>IQ</th><th>Prev_Sem_Result</th><th>CGPA</th><th>Academic_Performance</th><th>Internship_Experience</th><th>Extra_Curricular_Score</th><th>Communication_Skills</th><th>Projects_Completed</th><th>Placement</th></tr><tr><td>str</td><td>str</td><td>f64</td><td>f64</td><td>f64</td><td>f64</td><td>str</td><td>f64</td><td>f64</td><td>f64</td><td>str</td></tr></thead><tbody><tr><td>&quot;count&quot;</td><td>&quot;10000&quot;</td><td>10000.0</td><td>10000.0</td><td>10000.0</td><td>10000.0</td><td>&quot;10000&quot;</td><td>10000.0</td><td>10000.0</td><td>10000.0</td><td>&quot;10000&quot;</td></tr><tr><td>&quot;null_count&quot;</td><td>&quot;0&quot;</td><td>0.0</td><td>0.0</td><td>0.0</td><td>0.0</td><td>&quot;0&quot;</td><td>0.0</td><td>0.0</td><td>0.0</td><td>&quot;0&quot;</td></tr><tr><td>&quot;mean&quot;</td><td>null</td><td>99.4718</td><td>7.535673</td><td>7.532379</td><td>5.5464</td><td>null</td><td>4.9709</td><td>5.5618</td><td>2.5134</td><td>null</td></tr><tr><td>&quot;std&quot;</td><td>null</td><td>15.053101</td><td>1.447519</td><td>1.470141</td><td>2.873477</td><td>null</td><td>3.160103</td><td>2.900866</td><td>1.715959</td><td>null</td></tr><tr><td>&quot;min&quot;</td><td>&quot;CLG0001&quot;</td><td>41.0</td><td>5.0</td><td>4.54</td><td>1.0</td><td>&quot;No&quot;</td><td>0.0</td><td>1.0</td><td>0.0</td><td>&quot;No&quot;</td></tr><tr><td>&quot;25%&quot;</td><td>null</td><td>89.0</td><td>6.29</td><td>6.29</td><td>3.0</td><td>null</td><td>2.0</td><td>3.0</td><td>1.0</td><td>null</td></tr><tr><td>&quot;50%&quot;</td><td>null</td><td>99.0</td><td>7.56</td><td>7.55</td><td>6.0</td><td>null</td><td>5.0</td><td>6.0</td><td>3.0</td><td>null</td></tr><tr><td>&quot;75%&quot;</td><td>null</td><td>110.0</td><td>8.79</td><td>8.77</td><td>8.0</td><td>null</td><td>8.0</td><td>8.0</td><td>4.0</td><td>null</td></tr><tr><td>&quot;max&quot;</td><td>&quot;CLG0100&quot;</td><td>158.0</td><td>10.0</td><td>10.46</td><td>10.0</td><td>&quot;Yes&quot;</td><td>10.0</td><td>10.0</td><td>5.0</td><td>&quot;Yes&quot;</td></tr></tbody></table></div>"
      ],
      "text/plain": [
       "shape: (9, 11)\n",
       "┌───────────┬───────────┬───────────┬───────────┬───┬───────────┬───────────┬───────────┬──────────┐\n",
       "│ statistic ┆ College_I ┆ IQ        ┆ Prev_Sem_ ┆ … ┆ Extra_Cur ┆ Communica ┆ Projects_ ┆ Placemen │\n",
       "│ ---       ┆ D         ┆ ---       ┆ Result    ┆   ┆ ricular_S ┆ tion_Skil ┆ Completed ┆ t        │\n",
       "│ str       ┆ ---       ┆ f64       ┆ ---       ┆   ┆ core      ┆ ls        ┆ ---       ┆ ---      │\n",
       "│           ┆ str       ┆           ┆ f64       ┆   ┆ ---       ┆ ---       ┆ f64       ┆ str      │\n",
       "│           ┆           ┆           ┆           ┆   ┆ f64       ┆ f64       ┆           ┆          │\n",
       "╞═══════════╪═══════════╪═══════════╪═══════════╪═══╪═══════════╪═══════════╪═══════════╪══════════╡\n",
       "│ count     ┆ 10000     ┆ 10000.0   ┆ 10000.0   ┆ … ┆ 10000.0   ┆ 10000.0   ┆ 10000.0   ┆ 10000    │\n",
       "│ null_coun ┆ 0         ┆ 0.0       ┆ 0.0       ┆ … ┆ 0.0       ┆ 0.0       ┆ 0.0       ┆ 0        │\n",
       "│ t         ┆           ┆           ┆           ┆   ┆           ┆           ┆           ┆          │\n",
       "│ mean      ┆ null      ┆ 99.4718   ┆ 7.535673  ┆ … ┆ 4.9709    ┆ 5.5618    ┆ 2.5134    ┆ null     │\n",
       "│ std       ┆ null      ┆ 15.053101 ┆ 1.447519  ┆ … ┆ 3.160103  ┆ 2.900866  ┆ 1.715959  ┆ null     │\n",
       "│ min       ┆ CLG0001   ┆ 41.0      ┆ 5.0       ┆ … ┆ 0.0       ┆ 1.0       ┆ 0.0       ┆ No       │\n",
       "│ 25%       ┆ null      ┆ 89.0      ┆ 6.29      ┆ … ┆ 2.0       ┆ 3.0       ┆ 1.0       ┆ null     │\n",
       "│ 50%       ┆ null      ┆ 99.0      ┆ 7.56      ┆ … ┆ 5.0       ┆ 6.0       ┆ 3.0       ┆ null     │\n",
       "│ 75%       ┆ null      ┆ 110.0     ┆ 8.79      ┆ … ┆ 8.0       ┆ 8.0       ┆ 4.0       ┆ null     │\n",
       "│ max       ┆ CLG0100   ┆ 158.0     ┆ 10.0      ┆ … ┆ 10.0      ┆ 10.0      ┆ 5.0       ┆ Yes      │\n",
       "└───────────┴───────────┴───────────┴───────────┴───┴───────────┴───────────┴───────────┴──────────┘"
      ]
     },
     "execution_count": 5,
     "metadata": {},
     "output_type": "execute_result"
    }
   ],
   "source": [
    "ds.describe()"
   ]
  },
  {
   "cell_type": "code",
   "execution_count": 6,
   "id": "bb2cf22c",
   "metadata": {
    "execution": {
     "iopub.execute_input": "2025-07-26T07:02:01.288665Z",
     "iopub.status.busy": "2025-07-26T07:02:01.288327Z",
     "iopub.status.idle": "2025-07-26T07:02:01.295364Z",
     "shell.execute_reply": "2025-07-26T07:02:01.294600Z"
    },
    "papermill": {
     "duration": 0.015705,
     "end_time": "2025-07-26T07:02:01.297327",
     "exception": false,
     "start_time": "2025-07-26T07:02:01.281622",
     "status": "completed"
    },
    "tags": []
   },
   "outputs": [
    {
     "data": {
      "text/plain": [
       "[String, Int64, Float64, Float64, Int64, String, Int64, Int64, Int64, String]"
      ]
     },
     "execution_count": 6,
     "metadata": {},
     "output_type": "execute_result"
    }
   ],
   "source": [
    "ds.dtypes"
   ]
  },
  {
   "cell_type": "code",
   "execution_count": 7,
   "id": "293d1cf1",
   "metadata": {
    "execution": {
     "iopub.execute_input": "2025-07-26T07:02:01.308364Z",
     "iopub.status.busy": "2025-07-26T07:02:01.308022Z",
     "iopub.status.idle": "2025-07-26T07:02:01.314391Z",
     "shell.execute_reply": "2025-07-26T07:02:01.313522Z"
    },
    "papermill": {
     "duration": 0.013913,
     "end_time": "2025-07-26T07:02:01.316090",
     "exception": false,
     "start_time": "2025-07-26T07:02:01.302177",
     "status": "completed"
    },
    "tags": []
   },
   "outputs": [
    {
     "data": {
      "text/html": [
       "<div><style>\n",
       ".dataframe > thead > tr,\n",
       ".dataframe > tbody > tr {\n",
       "  text-align: right;\n",
       "  white-space: pre-wrap;\n",
       "}\n",
       "</style>\n",
       "<small>shape: (1, 10)</small><table border=\"1\" class=\"dataframe\"><thead><tr><th>College_ID</th><th>IQ</th><th>Prev_Sem_Result</th><th>CGPA</th><th>Academic_Performance</th><th>Internship_Experience</th><th>Extra_Curricular_Score</th><th>Communication_Skills</th><th>Projects_Completed</th><th>Placement</th></tr><tr><td>u32</td><td>u32</td><td>u32</td><td>u32</td><td>u32</td><td>u32</td><td>u32</td><td>u32</td><td>u32</td><td>u32</td></tr></thead><tbody><tr><td>0</td><td>0</td><td>0</td><td>0</td><td>0</td><td>0</td><td>0</td><td>0</td><td>0</td><td>0</td></tr></tbody></table></div>"
      ],
      "text/plain": [
       "shape: (1, 10)\n",
       "┌────────────┬─────┬──────────────┬──────┬───┬─────────────┬─────────────┬─────────────┬───────────┐\n",
       "│ College_ID ┆ IQ  ┆ Prev_Sem_Res ┆ CGPA ┆ … ┆ Extra_Curri ┆ Communicati ┆ Projects_Co ┆ Placement │\n",
       "│ ---        ┆ --- ┆ ult          ┆ ---  ┆   ┆ cular_Score ┆ on_Skills   ┆ mpleted     ┆ ---       │\n",
       "│ u32        ┆ u32 ┆ ---          ┆ u32  ┆   ┆ ---         ┆ ---         ┆ ---         ┆ u32       │\n",
       "│            ┆     ┆ u32          ┆      ┆   ┆ u32         ┆ u32         ┆ u32         ┆           │\n",
       "╞════════════╪═════╪══════════════╪══════╪═══╪═════════════╪═════════════╪═════════════╪═══════════╡\n",
       "│ 0          ┆ 0   ┆ 0            ┆ 0    ┆ … ┆ 0           ┆ 0           ┆ 0           ┆ 0         │\n",
       "└────────────┴─────┴──────────────┴──────┴───┴─────────────┴─────────────┴─────────────┴───────────┘"
      ]
     },
     "execution_count": 7,
     "metadata": {},
     "output_type": "execute_result"
    }
   ],
   "source": [
    "ds.null_count()"
   ]
  },
  {
   "cell_type": "markdown",
   "id": "4de39bb4",
   "metadata": {
    "papermill": {
     "duration": 0.004515,
     "end_time": "2025-07-26T07:02:01.325581",
     "exception": false,
     "start_time": "2025-07-26T07:02:01.321066",
     "status": "completed"
    },
    "tags": []
   },
   "source": [
    "### Dataset Preprocessing"
   ]
  },
  {
   "cell_type": "code",
   "execution_count": 8,
   "id": "f8eb7f49",
   "metadata": {
    "execution": {
     "iopub.execute_input": "2025-07-26T07:02:01.336315Z",
     "iopub.status.busy": "2025-07-26T07:02:01.335961Z",
     "iopub.status.idle": "2025-07-26T07:02:01.347724Z",
     "shell.execute_reply": "2025-07-26T07:02:01.346898Z"
    },
    "papermill": {
     "duration": 0.019324,
     "end_time": "2025-07-26T07:02:01.349578",
     "exception": false,
     "start_time": "2025-07-26T07:02:01.330254",
     "status": "completed"
    },
    "tags": []
   },
   "outputs": [
    {
     "data": {
      "text/html": [
       "<div><style>\n",
       ".dataframe > thead > tr,\n",
       ".dataframe > tbody > tr {\n",
       "  text-align: right;\n",
       "  white-space: pre-wrap;\n",
       "}\n",
       "</style>\n",
       "<small>shape: (10_000, 2)</small><table border=\"1\" class=\"dataframe\"><thead><tr><th>Internship_Experience</th><th>Placement</th></tr><tr><td>str</td><td>str</td></tr></thead><tbody><tr><td>&quot;No&quot;</td><td>&quot;No&quot;</td></tr><tr><td>&quot;No&quot;</td><td>&quot;No&quot;</td></tr><tr><td>&quot;No&quot;</td><td>&quot;No&quot;</td></tr><tr><td>&quot;Yes&quot;</td><td>&quot;No&quot;</td></tr><tr><td>&quot;No&quot;</td><td>&quot;No&quot;</td></tr><tr><td>&hellip;</td><td>&hellip;</td></tr><tr><td>&quot;No&quot;</td><td>&quot;Yes&quot;</td></tr><tr><td>&quot;No&quot;</td><td>&quot;No&quot;</td></tr><tr><td>&quot;Yes&quot;</td><td>&quot;No&quot;</td></tr><tr><td>&quot;No&quot;</td><td>&quot;No&quot;</td></tr><tr><td>&quot;No&quot;</td><td>&quot;No&quot;</td></tr></tbody></table></div>"
      ],
      "text/plain": [
       "shape: (10_000, 2)\n",
       "┌───────────────────────┬───────────┐\n",
       "│ Internship_Experience ┆ Placement │\n",
       "│ ---                   ┆ ---       │\n",
       "│ str                   ┆ str       │\n",
       "╞═══════════════════════╪═══════════╡\n",
       "│ No                    ┆ No        │\n",
       "│ No                    ┆ No        │\n",
       "│ No                    ┆ No        │\n",
       "│ Yes                   ┆ No        │\n",
       "│ No                    ┆ No        │\n",
       "│ …                     ┆ …         │\n",
       "│ No                    ┆ Yes       │\n",
       "│ No                    ┆ No        │\n",
       "│ Yes                   ┆ No        │\n",
       "│ No                    ┆ No        │\n",
       "│ No                    ┆ No        │\n",
       "└───────────────────────┴───────────┘"
      ]
     },
     "execution_count": 8,
     "metadata": {},
     "output_type": "execute_result"
    }
   ],
   "source": [
    "str_cols = ds.select(cs.string())\n",
    "\n",
    "for col in str_cols:\n",
    "    if col.n_unique() > 10:\n",
    "        str_cols = str_cols.drop(col.name)\n",
    "        ds = ds.drop(col.name)\n",
    "\n",
    "str_cols"
   ]
  },
  {
   "cell_type": "code",
   "execution_count": 9,
   "id": "cd89a814",
   "metadata": {
    "execution": {
     "iopub.execute_input": "2025-07-26T07:02:01.361024Z",
     "iopub.status.busy": "2025-07-26T07:02:01.360680Z",
     "iopub.status.idle": "2025-07-26T07:02:01.416248Z",
     "shell.execute_reply": "2025-07-26T07:02:01.415290Z"
    },
    "papermill": {
     "duration": 0.063354,
     "end_time": "2025-07-26T07:02:01.418198",
     "exception": false,
     "start_time": "2025-07-26T07:02:01.354844",
     "status": "completed"
    },
    "tags": []
   },
   "outputs": [
    {
     "data": {
      "text/html": [
       "<div><style>\n",
       ".dataframe > thead > tr,\n",
       ".dataframe > tbody > tr {\n",
       "  text-align: right;\n",
       "  white-space: pre-wrap;\n",
       "}\n",
       "</style>\n",
       "<small>shape: (10_000, 2)</small><table border=\"1\" class=\"dataframe\"><thead><tr><th>Internship_Experience</th><th>Placement</th></tr><tr><td>f64</td><td>f64</td></tr></thead><tbody><tr><td>0.0</td><td>0.0</td></tr><tr><td>0.0</td><td>0.0</td></tr><tr><td>0.0</td><td>0.0</td></tr><tr><td>1.0</td><td>0.0</td></tr><tr><td>0.0</td><td>0.0</td></tr><tr><td>&hellip;</td><td>&hellip;</td></tr><tr><td>0.0</td><td>1.0</td></tr><tr><td>0.0</td><td>0.0</td></tr><tr><td>1.0</td><td>0.0</td></tr><tr><td>0.0</td><td>0.0</td></tr><tr><td>0.0</td><td>0.0</td></tr></tbody></table></div>"
      ],
      "text/plain": [
       "shape: (10_000, 2)\n",
       "┌───────────────────────┬───────────┐\n",
       "│ Internship_Experience ┆ Placement │\n",
       "│ ---                   ┆ ---       │\n",
       "│ f64                   ┆ f64       │\n",
       "╞═══════════════════════╪═══════════╡\n",
       "│ 0.0                   ┆ 0.0       │\n",
       "│ 0.0                   ┆ 0.0       │\n",
       "│ 0.0                   ┆ 0.0       │\n",
       "│ 1.0                   ┆ 0.0       │\n",
       "│ 0.0                   ┆ 0.0       │\n",
       "│ …                     ┆ …         │\n",
       "│ 0.0                   ┆ 1.0       │\n",
       "│ 0.0                   ┆ 0.0       │\n",
       "│ 1.0                   ┆ 0.0       │\n",
       "│ 0.0                   ┆ 0.0       │\n",
       "│ 0.0                   ┆ 0.0       │\n",
       "└───────────────────────┴───────────┘"
      ]
     },
     "execution_count": 9,
     "metadata": {},
     "output_type": "execute_result"
    }
   ],
   "source": [
    "key = {\n",
    "    'No' : 0,\n",
    "    'Yes' : 1\n",
    "}\n",
    "\n",
    "for col in str_cols:\n",
    "    str_cols = str_cols.with_columns(\n",
    "        pl.col(col.name).replace_strict(key).cast(pl.Float64).alias(col.name)\n",
    "    )\n",
    "\n",
    "str_cols"
   ]
  },
  {
   "cell_type": "code",
   "execution_count": 10,
   "id": "321ce8ad",
   "metadata": {
    "execution": {
     "iopub.execute_input": "2025-07-26T07:02:01.429744Z",
     "iopub.status.busy": "2025-07-26T07:02:01.429397Z",
     "iopub.status.idle": "2025-07-26T07:02:01.438448Z",
     "shell.execute_reply": "2025-07-26T07:02:01.437438Z"
    },
    "papermill": {
     "duration": 0.01676,
     "end_time": "2025-07-26T07:02:01.440191",
     "exception": false,
     "start_time": "2025-07-26T07:02:01.423431",
     "status": "completed"
    },
    "tags": []
   },
   "outputs": [
    {
     "data": {
      "text/html": [
       "<div><style>\n",
       ".dataframe > thead > tr,\n",
       ".dataframe > tbody > tr {\n",
       "  text-align: right;\n",
       "  white-space: pre-wrap;\n",
       "}\n",
       "</style>\n",
       "<small>shape: (10_000, 9)</small><table border=\"1\" class=\"dataframe\"><thead><tr><th>IQ</th><th>Prev_Sem_Result</th><th>CGPA</th><th>Academic_Performance</th><th>Internship_Experience</th><th>Extra_Curricular_Score</th><th>Communication_Skills</th><th>Projects_Completed</th><th>Placement</th></tr><tr><td>i64</td><td>f64</td><td>f64</td><td>i64</td><td>f64</td><td>i64</td><td>i64</td><td>i64</td><td>f64</td></tr></thead><tbody><tr><td>107</td><td>6.61</td><td>6.28</td><td>8</td><td>0.0</td><td>8</td><td>8</td><td>4</td><td>0.0</td></tr><tr><td>97</td><td>5.52</td><td>5.37</td><td>8</td><td>0.0</td><td>7</td><td>8</td><td>0</td><td>0.0</td></tr><tr><td>109</td><td>5.36</td><td>5.83</td><td>9</td><td>0.0</td><td>3</td><td>1</td><td>1</td><td>0.0</td></tr><tr><td>122</td><td>5.47</td><td>5.75</td><td>6</td><td>1.0</td><td>1</td><td>6</td><td>1</td><td>0.0</td></tr><tr><td>96</td><td>7.91</td><td>7.69</td><td>7</td><td>0.0</td><td>8</td><td>10</td><td>2</td><td>0.0</td></tr><tr><td>&hellip;</td><td>&hellip;</td><td>&hellip;</td><td>&hellip;</td><td>&hellip;</td><td>&hellip;</td><td>&hellip;</td><td>&hellip;</td><td>&hellip;</td></tr><tr><td>119</td><td>8.41</td><td>8.29</td><td>4</td><td>0.0</td><td>1</td><td>8</td><td>0</td><td>1.0</td></tr><tr><td>70</td><td>9.25</td><td>9.34</td><td>7</td><td>0.0</td><td>0</td><td>7</td><td>2</td><td>0.0</td></tr><tr><td>89</td><td>6.08</td><td>6.25</td><td>3</td><td>1.0</td><td>3</td><td>9</td><td>5</td><td>0.0</td></tr><tr><td>107</td><td>8.77</td><td>8.92</td><td>3</td><td>0.0</td><td>7</td><td>5</td><td>1</td><td>0.0</td></tr><tr><td>109</td><td>9.41</td><td>9.77</td><td>8</td><td>0.0</td><td>3</td><td>5</td><td>5</td><td>0.0</td></tr></tbody></table></div>"
      ],
      "text/plain": [
       "shape: (10_000, 9)\n",
       "┌─────┬─────────────┬──────┬─────────────┬───┬─────────────┬─────────────┬─────────────┬───────────┐\n",
       "│ IQ  ┆ Prev_Sem_Re ┆ CGPA ┆ Academic_Pe ┆ … ┆ Extra_Curri ┆ Communicati ┆ Projects_Co ┆ Placement │\n",
       "│ --- ┆ sult        ┆ ---  ┆ rformance   ┆   ┆ cular_Score ┆ on_Skills   ┆ mpleted     ┆ ---       │\n",
       "│ i64 ┆ ---         ┆ f64  ┆ ---         ┆   ┆ ---         ┆ ---         ┆ ---         ┆ f64       │\n",
       "│     ┆ f64         ┆      ┆ i64         ┆   ┆ i64         ┆ i64         ┆ i64         ┆           │\n",
       "╞═════╪═════════════╪══════╪═════════════╪═══╪═════════════╪═════════════╪═════════════╪═══════════╡\n",
       "│ 107 ┆ 6.61        ┆ 6.28 ┆ 8           ┆ … ┆ 8           ┆ 8           ┆ 4           ┆ 0.0       │\n",
       "│ 97  ┆ 5.52        ┆ 5.37 ┆ 8           ┆ … ┆ 7           ┆ 8           ┆ 0           ┆ 0.0       │\n",
       "│ 109 ┆ 5.36        ┆ 5.83 ┆ 9           ┆ … ┆ 3           ┆ 1           ┆ 1           ┆ 0.0       │\n",
       "│ 122 ┆ 5.47        ┆ 5.75 ┆ 6           ┆ … ┆ 1           ┆ 6           ┆ 1           ┆ 0.0       │\n",
       "│ 96  ┆ 7.91        ┆ 7.69 ┆ 7           ┆ … ┆ 8           ┆ 10          ┆ 2           ┆ 0.0       │\n",
       "│ …   ┆ …           ┆ …    ┆ …           ┆ … ┆ …           ┆ …           ┆ …           ┆ …         │\n",
       "│ 119 ┆ 8.41        ┆ 8.29 ┆ 4           ┆ … ┆ 1           ┆ 8           ┆ 0           ┆ 1.0       │\n",
       "│ 70  ┆ 9.25        ┆ 9.34 ┆ 7           ┆ … ┆ 0           ┆ 7           ┆ 2           ┆ 0.0       │\n",
       "│ 89  ┆ 6.08        ┆ 6.25 ┆ 3           ┆ … ┆ 3           ┆ 9           ┆ 5           ┆ 0.0       │\n",
       "│ 107 ┆ 8.77        ┆ 8.92 ┆ 3           ┆ … ┆ 7           ┆ 5           ┆ 1           ┆ 0.0       │\n",
       "│ 109 ┆ 9.41        ┆ 9.77 ┆ 8           ┆ … ┆ 3           ┆ 5           ┆ 5           ┆ 0.0       │\n",
       "└─────┴─────────────┴──────┴─────────────┴───┴─────────────┴─────────────┴─────────────┴───────────┘"
      ]
     },
     "execution_count": 10,
     "metadata": {},
     "output_type": "execute_result"
    }
   ],
   "source": [
    "ds = ds.with_columns(str_cols)\n",
    "\n",
    "ds"
   ]
  },
  {
   "cell_type": "code",
   "execution_count": 11,
   "id": "003325e3",
   "metadata": {
    "execution": {
     "iopub.execute_input": "2025-07-26T07:02:01.452099Z",
     "iopub.status.busy": "2025-07-26T07:02:01.451802Z",
     "iopub.status.idle": "2025-07-26T07:02:01.458382Z",
     "shell.execute_reply": "2025-07-26T07:02:01.457477Z"
    },
    "papermill": {
     "duration": 0.014703,
     "end_time": "2025-07-26T07:02:01.460300",
     "exception": false,
     "start_time": "2025-07-26T07:02:01.445597",
     "status": "completed"
    },
    "tags": []
   },
   "outputs": [],
   "source": [
    "y = ds.drop_in_place('Placement').to_numpy()\n",
    "x = ds"
   ]
  },
  {
   "cell_type": "code",
   "execution_count": 12,
   "id": "b658a289",
   "metadata": {
    "execution": {
     "iopub.execute_input": "2025-07-26T07:02:01.474016Z",
     "iopub.status.busy": "2025-07-26T07:02:01.473716Z",
     "iopub.status.idle": "2025-07-26T07:02:01.484567Z",
     "shell.execute_reply": "2025-07-26T07:02:01.483415Z"
    },
    "papermill": {
     "duration": 0.020241,
     "end_time": "2025-07-26T07:02:01.486590",
     "exception": false,
     "start_time": "2025-07-26T07:02:01.466349",
     "status": "completed"
    },
    "tags": []
   },
   "outputs": [],
   "source": [
    "scaler = MinMaxScaler()\n",
    "x = scaler.fit_transform(x)"
   ]
  },
  {
   "cell_type": "code",
   "execution_count": 13,
   "id": "075d7102",
   "metadata": {
    "execution": {
     "iopub.execute_input": "2025-07-26T07:02:01.498408Z",
     "iopub.status.busy": "2025-07-26T07:02:01.498127Z",
     "iopub.status.idle": "2025-07-26T07:02:01.505831Z",
     "shell.execute_reply": "2025-07-26T07:02:01.505017Z"
    },
    "papermill": {
     "duration": 0.015397,
     "end_time": "2025-07-26T07:02:01.507341",
     "exception": false,
     "start_time": "2025-07-26T07:02:01.491944",
     "status": "completed"
    },
    "tags": []
   },
   "outputs": [],
   "source": [
    "x_train, x_test, y_train, y_test = train_test_split(x, y, test_size=0.2, train_size=0.8, shuffle=True)"
   ]
  },
  {
   "cell_type": "markdown",
   "id": "9ae5dd00",
   "metadata": {
    "papermill": {
     "duration": 0.005259,
     "end_time": "2025-07-26T07:02:01.518204",
     "exception": false,
     "start_time": "2025-07-26T07:02:01.512945",
     "status": "completed"
    },
    "tags": []
   },
   "source": [
    "### Sklearn"
   ]
  },
  {
   "cell_type": "code",
   "execution_count": 14,
   "id": "c6d08845",
   "metadata": {
    "execution": {
     "iopub.execute_input": "2025-07-26T07:02:01.531327Z",
     "iopub.status.busy": "2025-07-26T07:02:01.530981Z",
     "iopub.status.idle": "2025-07-26T07:02:10.889186Z",
     "shell.execute_reply": "2025-07-26T07:02:10.888211Z"
    },
    "papermill": {
     "duration": 9.367386,
     "end_time": "2025-07-26T07:02:10.891084",
     "exception": false,
     "start_time": "2025-07-26T07:02:01.523698",
     "status": "completed"
    },
    "tags": []
   },
   "outputs": [
    {
     "name": "stderr",
     "output_type": "stream",
     "text": [
      "/usr/local/lib/python3.11/dist-packages/sklearn/neural_network/_multilayer_perceptron.py:686: ConvergenceWarning: Stochastic Optimizer: Maximum iterations (200) reached and the optimization hasn't converged yet.\n",
      "  warnings.warn(\n"
     ]
    }
   ],
   "source": [
    "models = {\n",
    "    'AdaBoostClassifier' : AdaBoostClassifier(),\n",
    "    'RandomForestClassifier' : RandomForestClassifier(),\n",
    "    'KNeighborsClassifier' : KNeighborsClassifier(),\n",
    "    'MLPClassifier' : MLPClassifier(),\n",
    "    'GradientBoostingClassifier' : GradientBoostingClassifier(),\n",
    "    'SVC' : SVC(),\n",
    "    'LinearSVC' : LinearSVC()\n",
    "}\n",
    "\n",
    "accuracies = {\n",
    "    'Models' : [],\n",
    "    'Accuracies' : []\n",
    "}\n",
    "\n",
    "for name, model in models.items():\n",
    "    model.fit(x_train, y_train)\n",
    "    accuracies['Models'].append(name)\n",
    "    accuracies['Accuracies'].append(model.score(x_test, y_test))"
   ]
  },
  {
   "cell_type": "markdown",
   "id": "fd30a341",
   "metadata": {
    "papermill": {
     "duration": 0.006335,
     "end_time": "2025-07-26T07:02:10.904436",
     "exception": false,
     "start_time": "2025-07-26T07:02:10.898101",
     "status": "completed"
    },
    "tags": []
   },
   "source": [
    "### PyTorch"
   ]
  },
  {
   "cell_type": "code",
   "execution_count": 15,
   "id": "34ccbd07",
   "metadata": {
    "execution": {
     "iopub.execute_input": "2025-07-26T07:02:10.916613Z",
     "iopub.status.busy": "2025-07-26T07:02:10.916285Z",
     "iopub.status.idle": "2025-07-26T07:02:10.953636Z",
     "shell.execute_reply": "2025-07-26T07:02:10.952348Z"
    },
    "papermill": {
     "duration": 0.045588,
     "end_time": "2025-07-26T07:02:10.955370",
     "exception": false,
     "start_time": "2025-07-26T07:02:10.909782",
     "status": "completed"
    },
    "tags": []
   },
   "outputs": [],
   "source": [
    "x_train, x_test = torch.from_numpy(x_train).to(torch.float64), torch.from_numpy(x_test).to(torch.float64)\n",
    "y_train, y_test = torch.from_numpy(y_train).to(torch.float64), torch.from_numpy(y_test).to(torch.float64)\n",
    "x_val, y_val = x_test[0:int(len(x_test)*0.2)], y_test[0:int(len(y_test)*0.2)]\n",
    "\n",
    "train_dataset = TensorDataset(x_train, y_train)\n",
    "val_dataset = TensorDataset(x_val, y_val)\n",
    "test_dataset = TensorDataset(x_test, y_test)\n",
    "\n",
    "train_dataloader = DataLoader(train_dataset, batch_size=32, shuffle=True)\n",
    "val_dataloader = DataLoader(val_dataset, batch_size=32, shuffle=True)\n",
    "test_dataloader = DataLoader(test_dataset, batch_size=32, shuffle=True)"
   ]
  },
  {
   "cell_type": "code",
   "execution_count": 16,
   "id": "4c0dd634",
   "metadata": {
    "execution": {
     "iopub.execute_input": "2025-07-26T07:02:10.969217Z",
     "iopub.status.busy": "2025-07-26T07:02:10.968854Z",
     "iopub.status.idle": "2025-07-26T07:02:10.976358Z",
     "shell.execute_reply": "2025-07-26T07:02:10.975345Z"
    },
    "papermill": {
     "duration": 0.016122,
     "end_time": "2025-07-26T07:02:10.978319",
     "exception": false,
     "start_time": "2025-07-26T07:02:10.962197",
     "status": "completed"
    },
    "tags": []
   },
   "outputs": [],
   "source": [
    "class TorchModel(nn.Module):\n",
    "    def __init__(self, input_size):\n",
    "        super(TorchModel, self).__init__()\n",
    "        \n",
    "        self.model = nn.Sequential(\n",
    "            nn.Linear(input_size, 128),\n",
    "            nn.Linear(128, 64),\n",
    "            nn.ReLU(),\n",
    "            nn.Linear(64, 64),\n",
    "            nn.ReLU(),\n",
    "            nn.Linear(64, 1),\n",
    "            nn.Dropout(p=0.5),\n",
    "            nn.Sigmoid()\n",
    "        )\n",
    "\n",
    "    def forward(self, x):\n",
    "        x = self.model(x)\n",
    "        return x.squeeze(1)"
   ]
  },
  {
   "cell_type": "code",
   "execution_count": 17,
   "id": "e93d062e",
   "metadata": {
    "execution": {
     "iopub.execute_input": "2025-07-26T07:02:10.991256Z",
     "iopub.status.busy": "2025-07-26T07:02:10.990757Z",
     "iopub.status.idle": "2025-07-26T07:02:17.831701Z",
     "shell.execute_reply": "2025-07-26T07:02:17.830625Z"
    },
    "papermill": {
     "duration": 6.849607,
     "end_time": "2025-07-26T07:02:17.833607",
     "exception": false,
     "start_time": "2025-07-26T07:02:10.984000",
     "status": "completed"
    },
    "tags": []
   },
   "outputs": [],
   "source": [
    "model = TorchModel(input_size=8)\n",
    "model.to(dtype=torch.float64)\n",
    "\n",
    "optimizer = optim.Adam(model.parameters(), lr=0.001)\n",
    "loss_fn = nn.BCELoss()\n",
    "epochs = 50"
   ]
  },
  {
   "cell_type": "code",
   "execution_count": 18,
   "id": "f1061e44",
   "metadata": {
    "execution": {
     "iopub.execute_input": "2025-07-26T07:02:17.846707Z",
     "iopub.status.busy": "2025-07-26T07:02:17.846160Z",
     "iopub.status.idle": "2025-07-26T07:03:15.289390Z",
     "shell.execute_reply": "2025-07-26T07:03:15.288133Z"
    },
    "papermill": {
     "duration": 57.451557,
     "end_time": "2025-07-26T07:03:15.290914",
     "exception": false,
     "start_time": "2025-07-26T07:02:17.839357",
     "status": "completed"
    },
    "tags": []
   },
   "outputs": [
    {
     "name": "stdout",
     "output_type": "stream",
     "text": [
      "Model is training\n",
      "\n"
     ]
    },
    {
     "name": "stderr",
     "output_type": "stream",
     "text": [
      "Epoch: 0: : 250it [00:01, 203.40it/s]\n"
     ]
    },
    {
     "name": "stdout",
     "output_type": "stream",
     "text": [
      "Train loss for epoch 0: 0.5516163109856824\n"
     ]
    },
    {
     "name": "stderr",
     "output_type": "stream",
     "text": [
      "13it [00:00, 1011.76it/s]\n"
     ]
    },
    {
     "name": "stdout",
     "output_type": "stream",
     "text": [
      "Val loss for epoch 0: 0.4387836801943943\n",
      "\n"
     ]
    },
    {
     "name": "stderr",
     "output_type": "stream",
     "text": [
      "Epoch: 1: : 250it [00:01, 226.26it/s]\n"
     ]
    },
    {
     "name": "stdout",
     "output_type": "stream",
     "text": [
      "Train loss for epoch 1: 0.4124558768359895\n"
     ]
    },
    {
     "name": "stderr",
     "output_type": "stream",
     "text": [
      "13it [00:00, 1024.89it/s]\n"
     ]
    },
    {
     "name": "stdout",
     "output_type": "stream",
     "text": [
      "Val loss for epoch 1: 0.24177503100211947\n",
      "\n"
     ]
    },
    {
     "name": "stderr",
     "output_type": "stream",
     "text": [
      "Epoch: 2: : 250it [00:01, 219.45it/s]\n"
     ]
    },
    {
     "name": "stdout",
     "output_type": "stream",
     "text": [
      "Train loss for epoch 2: 0.4512686982478618\n"
     ]
    },
    {
     "name": "stderr",
     "output_type": "stream",
     "text": [
      "13it [00:00, 965.68it/s]\n"
     ]
    },
    {
     "name": "stdout",
     "output_type": "stream",
     "text": [
      "Val loss for epoch 2: 0.14864400622262117\n",
      "\n"
     ]
    },
    {
     "name": "stderr",
     "output_type": "stream",
     "text": [
      "Epoch: 3: : 250it [00:01, 215.83it/s]\n"
     ]
    },
    {
     "name": "stdout",
     "output_type": "stream",
     "text": [
      "Train loss for epoch 3: 0.310548168489719\n"
     ]
    },
    {
     "name": "stderr",
     "output_type": "stream",
     "text": [
      "13it [00:00, 1099.56it/s]\n"
     ]
    },
    {
     "name": "stdout",
     "output_type": "stream",
     "text": [
      "Val loss for epoch 3: 0.2967501249475586\n",
      "\n"
     ]
    },
    {
     "name": "stderr",
     "output_type": "stream",
     "text": [
      "Epoch: 4: : 250it [00:01, 210.35it/s]\n"
     ]
    },
    {
     "name": "stdout",
     "output_type": "stream",
     "text": [
      "Train loss for epoch 4: 0.33851987731468114\n"
     ]
    },
    {
     "name": "stderr",
     "output_type": "stream",
     "text": [
      "13it [00:00, 1084.34it/s]\n"
     ]
    },
    {
     "name": "stdout",
     "output_type": "stream",
     "text": [
      "Val loss for epoch 4: 0.21368167827305937\n",
      "\n"
     ]
    },
    {
     "name": "stderr",
     "output_type": "stream",
     "text": [
      "Epoch: 5: : 250it [00:01, 201.09it/s]\n"
     ]
    },
    {
     "name": "stdout",
     "output_type": "stream",
     "text": [
      "Train loss for epoch 5: 0.37506054994479177\n"
     ]
    },
    {
     "name": "stderr",
     "output_type": "stream",
     "text": [
      "13it [00:00, 1056.62it/s]\n"
     ]
    },
    {
     "name": "stdout",
     "output_type": "stream",
     "text": [
      "Val loss for epoch 5: 0.3038353705527323\n",
      "\n"
     ]
    },
    {
     "name": "stderr",
     "output_type": "stream",
     "text": [
      "Epoch: 6: : 250it [00:01, 222.39it/s]\n"
     ]
    },
    {
     "name": "stdout",
     "output_type": "stream",
     "text": [
      "Train loss for epoch 6: 0.49638892184482286\n"
     ]
    },
    {
     "name": "stderr",
     "output_type": "stream",
     "text": [
      "13it [00:00, 1143.03it/s]\n"
     ]
    },
    {
     "name": "stdout",
     "output_type": "stream",
     "text": [
      "Val loss for epoch 6: 0.12188842828397013\n",
      "\n"
     ]
    },
    {
     "name": "stderr",
     "output_type": "stream",
     "text": [
      "Epoch: 7: : 250it [00:01, 230.53it/s]\n"
     ]
    },
    {
     "name": "stdout",
     "output_type": "stream",
     "text": [
      "Train loss for epoch 7: 0.511331318066289\n"
     ]
    },
    {
     "name": "stderr",
     "output_type": "stream",
     "text": [
      "13it [00:00, 1116.90it/s]\n"
     ]
    },
    {
     "name": "stdout",
     "output_type": "stream",
     "text": [
      "Val loss for epoch 7: 0.16422927664988596\n",
      "\n"
     ]
    },
    {
     "name": "stderr",
     "output_type": "stream",
     "text": [
      "Epoch: 8: : 250it [00:01, 233.67it/s]\n"
     ]
    },
    {
     "name": "stdout",
     "output_type": "stream",
     "text": [
      "Train loss for epoch 8: 0.4668001868706921\n"
     ]
    },
    {
     "name": "stderr",
     "output_type": "stream",
     "text": [
      "13it [00:00, 1197.95it/s]\n"
     ]
    },
    {
     "name": "stdout",
     "output_type": "stream",
     "text": [
      "Val loss for epoch 8: 0.2160076833920157\n",
      "\n"
     ]
    },
    {
     "name": "stderr",
     "output_type": "stream",
     "text": [
      "Epoch: 9: : 250it [00:01, 232.19it/s]\n"
     ]
    },
    {
     "name": "stdout",
     "output_type": "stream",
     "text": [
      "Train loss for epoch 9: 0.5475665114683665\n"
     ]
    },
    {
     "name": "stderr",
     "output_type": "stream",
     "text": [
      "13it [00:00, 1102.02it/s]\n"
     ]
    },
    {
     "name": "stdout",
     "output_type": "stream",
     "text": [
      "Val loss for epoch 9: 0.10777972057975115\n",
      "\n"
     ]
    },
    {
     "name": "stderr",
     "output_type": "stream",
     "text": [
      "Epoch: 10: : 250it [00:01, 220.45it/s]\n"
     ]
    },
    {
     "name": "stdout",
     "output_type": "stream",
     "text": [
      "Train loss for epoch 10: 0.4441723815315065\n"
     ]
    },
    {
     "name": "stderr",
     "output_type": "stream",
     "text": [
      "13it [00:00, 1202.73it/s]\n"
     ]
    },
    {
     "name": "stdout",
     "output_type": "stream",
     "text": [
      "Val loss for epoch 10: 0.2272656000181071\n",
      "\n"
     ]
    },
    {
     "name": "stderr",
     "output_type": "stream",
     "text": [
      "Epoch: 11: : 250it [00:01, 230.98it/s]\n"
     ]
    },
    {
     "name": "stdout",
     "output_type": "stream",
     "text": [
      "Train loss for epoch 11: 0.41250306935844205\n"
     ]
    },
    {
     "name": "stderr",
     "output_type": "stream",
     "text": [
      "13it [00:00, 1037.76it/s]\n"
     ]
    },
    {
     "name": "stdout",
     "output_type": "stream",
     "text": [
      "Val loss for epoch 11: 0.2622580769474838\n",
      "\n"
     ]
    },
    {
     "name": "stderr",
     "output_type": "stream",
     "text": [
      "Epoch: 12: : 250it [00:01, 230.44it/s]\n"
     ]
    },
    {
     "name": "stdout",
     "output_type": "stream",
     "text": [
      "Train loss for epoch 12: 0.4251384966259249\n"
     ]
    },
    {
     "name": "stderr",
     "output_type": "stream",
     "text": [
      "13it [00:00, 1073.98it/s]\n"
     ]
    },
    {
     "name": "stdout",
     "output_type": "stream",
     "text": [
      "Val loss for epoch 12: 0.07607495086167375\n",
      "\n"
     ]
    },
    {
     "name": "stderr",
     "output_type": "stream",
     "text": [
      "Epoch: 13: : 250it [00:01, 232.17it/s]\n"
     ]
    },
    {
     "name": "stdout",
     "output_type": "stream",
     "text": [
      "Train loss for epoch 13: 0.32872797705703916\n"
     ]
    },
    {
     "name": "stderr",
     "output_type": "stream",
     "text": [
      "13it [00:00, 925.63it/s]\n"
     ]
    },
    {
     "name": "stdout",
     "output_type": "stream",
     "text": [
      "Val loss for epoch 13: 0.0940590823501993\n",
      "\n"
     ]
    },
    {
     "name": "stderr",
     "output_type": "stream",
     "text": [
      "Epoch: 14: : 250it [00:01, 230.80it/s]\n"
     ]
    },
    {
     "name": "stdout",
     "output_type": "stream",
     "text": [
      "Train loss for epoch 14: 0.4321029723692927\n"
     ]
    },
    {
     "name": "stderr",
     "output_type": "stream",
     "text": [
      "13it [00:00, 1093.52it/s]\n"
     ]
    },
    {
     "name": "stdout",
     "output_type": "stream",
     "text": [
      "Val loss for epoch 14: 0.2234749860805046\n",
      "\n"
     ]
    },
    {
     "name": "stderr",
     "output_type": "stream",
     "text": [
      "Epoch: 15: : 250it [00:01, 230.85it/s]\n"
     ]
    },
    {
     "name": "stdout",
     "output_type": "stream",
     "text": [
      "Train loss for epoch 15: 0.3959497434935455\n"
     ]
    },
    {
     "name": "stderr",
     "output_type": "stream",
     "text": [
      "13it [00:00, 1152.67it/s]\n"
     ]
    },
    {
     "name": "stdout",
     "output_type": "stream",
     "text": [
      "Val loss for epoch 15: 0.20514069445914912\n",
      "\n"
     ]
    },
    {
     "name": "stderr",
     "output_type": "stream",
     "text": [
      "Epoch: 16: : 250it [00:01, 227.12it/s]\n"
     ]
    },
    {
     "name": "stdout",
     "output_type": "stream",
     "text": [
      "Train loss for epoch 16: 0.45353763764607835\n"
     ]
    },
    {
     "name": "stderr",
     "output_type": "stream",
     "text": [
      "13it [00:00, 1066.46it/s]\n"
     ]
    },
    {
     "name": "stdout",
     "output_type": "stream",
     "text": [
      "Val loss for epoch 16: 0.14927176574939766\n",
      "\n"
     ]
    },
    {
     "name": "stderr",
     "output_type": "stream",
     "text": [
      "Epoch: 17: : 250it [00:01, 226.71it/s]\n"
     ]
    },
    {
     "name": "stdout",
     "output_type": "stream",
     "text": [
      "Train loss for epoch 17: 0.4622108509940188\n"
     ]
    },
    {
     "name": "stderr",
     "output_type": "stream",
     "text": [
      "13it [00:00, 1143.44it/s]\n"
     ]
    },
    {
     "name": "stdout",
     "output_type": "stream",
     "text": [
      "Val loss for epoch 17: 0.11743301126473596\n",
      "\n"
     ]
    },
    {
     "name": "stderr",
     "output_type": "stream",
     "text": [
      "Epoch: 18: : 250it [00:01, 238.37it/s]\n"
     ]
    },
    {
     "name": "stdout",
     "output_type": "stream",
     "text": [
      "Train loss for epoch 18: 0.4079154147293535\n"
     ]
    },
    {
     "name": "stderr",
     "output_type": "stream",
     "text": [
      "13it [00:00, 1164.36it/s]\n"
     ]
    },
    {
     "name": "stdout",
     "output_type": "stream",
     "text": [
      "Val loss for epoch 18: 0.022085015108163058\n",
      "\n"
     ]
    },
    {
     "name": "stderr",
     "output_type": "stream",
     "text": [
      "Epoch: 19: : 250it [00:01, 225.95it/s]\n"
     ]
    },
    {
     "name": "stdout",
     "output_type": "stream",
     "text": [
      "Train loss for epoch 19: 0.301740753467106\n"
     ]
    },
    {
     "name": "stderr",
     "output_type": "stream",
     "text": [
      "13it [00:00, 1112.34it/s]\n"
     ]
    },
    {
     "name": "stdout",
     "output_type": "stream",
     "text": [
      "Val loss for epoch 19: 0.08433233171388223\n",
      "\n"
     ]
    },
    {
     "name": "stderr",
     "output_type": "stream",
     "text": [
      "Epoch: 20: : 250it [00:01, 234.74it/s]\n"
     ]
    },
    {
     "name": "stdout",
     "output_type": "stream",
     "text": [
      "Train loss for epoch 20: 0.45354713097134036\n"
     ]
    },
    {
     "name": "stderr",
     "output_type": "stream",
     "text": [
      "13it [00:00, 1116.65it/s]\n"
     ]
    },
    {
     "name": "stdout",
     "output_type": "stream",
     "text": [
      "Val loss for epoch 20: 0.07967666098479644\n",
      "\n"
     ]
    },
    {
     "name": "stderr",
     "output_type": "stream",
     "text": [
      "Epoch: 21: : 250it [00:01, 228.29it/s]\n"
     ]
    },
    {
     "name": "stdout",
     "output_type": "stream",
     "text": [
      "Train loss for epoch 21: 0.21826572833679492\n"
     ]
    },
    {
     "name": "stderr",
     "output_type": "stream",
     "text": [
      "13it [00:00, 1098.78it/s]\n"
     ]
    },
    {
     "name": "stdout",
     "output_type": "stream",
     "text": [
      "Val loss for epoch 21: 0.0910833286606418\n",
      "\n"
     ]
    },
    {
     "name": "stderr",
     "output_type": "stream",
     "text": [
      "Epoch: 22: : 250it [00:01, 227.11it/s]\n"
     ]
    },
    {
     "name": "stdout",
     "output_type": "stream",
     "text": [
      "Train loss for epoch 22: 0.33490032958239924\n"
     ]
    },
    {
     "name": "stderr",
     "output_type": "stream",
     "text": [
      "13it [00:00, 1124.36it/s]\n"
     ]
    },
    {
     "name": "stdout",
     "output_type": "stream",
     "text": [
      "Val loss for epoch 22: 0.18751061723969903\n",
      "\n"
     ]
    },
    {
     "name": "stderr",
     "output_type": "stream",
     "text": [
      "Epoch: 23: : 250it [00:01, 229.88it/s]\n"
     ]
    },
    {
     "name": "stdout",
     "output_type": "stream",
     "text": [
      "Train loss for epoch 23: 0.3738930301236207\n"
     ]
    },
    {
     "name": "stderr",
     "output_type": "stream",
     "text": [
      "13it [00:00, 1135.65it/s]\n"
     ]
    },
    {
     "name": "stdout",
     "output_type": "stream",
     "text": [
      "Val loss for epoch 23: 0.05847839847958352\n",
      "\n"
     ]
    },
    {
     "name": "stderr",
     "output_type": "stream",
     "text": [
      "Epoch: 24: : 250it [00:01, 219.99it/s]\n"
     ]
    },
    {
     "name": "stdout",
     "output_type": "stream",
     "text": [
      "Train loss for epoch 24: 0.3969520925683998\n"
     ]
    },
    {
     "name": "stderr",
     "output_type": "stream",
     "text": [
      "13it [00:00, 1156.46it/s]\n"
     ]
    },
    {
     "name": "stdout",
     "output_type": "stream",
     "text": [
      "Val loss for epoch 24: 0.0610689455449662\n",
      "\n"
     ]
    },
    {
     "name": "stderr",
     "output_type": "stream",
     "text": [
      "Epoch: 25: : 250it [00:01, 224.88it/s]\n"
     ]
    },
    {
     "name": "stdout",
     "output_type": "stream",
     "text": [
      "Train loss for epoch 25: 0.3793868591154397\n"
     ]
    },
    {
     "name": "stderr",
     "output_type": "stream",
     "text": [
      "13it [00:00, 1040.69it/s]\n"
     ]
    },
    {
     "name": "stdout",
     "output_type": "stream",
     "text": [
      "Val loss for epoch 25: 0.14504155374852223\n",
      "\n"
     ]
    },
    {
     "name": "stderr",
     "output_type": "stream",
     "text": [
      "Epoch: 26: : 250it [00:01, 225.85it/s]\n"
     ]
    },
    {
     "name": "stdout",
     "output_type": "stream",
     "text": [
      "Train loss for epoch 26: 0.2816693556300482\n"
     ]
    },
    {
     "name": "stderr",
     "output_type": "stream",
     "text": [
      "13it [00:00, 735.92it/s]\n"
     ]
    },
    {
     "name": "stdout",
     "output_type": "stream",
     "text": [
      "Val loss for epoch 26: 0.0821331390023494\n",
      "\n"
     ]
    },
    {
     "name": "stderr",
     "output_type": "stream",
     "text": [
      "Epoch: 27: : 250it [00:01, 214.55it/s]\n"
     ]
    },
    {
     "name": "stdout",
     "output_type": "stream",
     "text": [
      "Train loss for epoch 27: 0.4421229684685888\n"
     ]
    },
    {
     "name": "stderr",
     "output_type": "stream",
     "text": [
      "13it [00:00, 1043.60it/s]\n"
     ]
    },
    {
     "name": "stdout",
     "output_type": "stream",
     "text": [
      "Val loss for epoch 27: 0.04111432051555543\n",
      "\n"
     ]
    },
    {
     "name": "stderr",
     "output_type": "stream",
     "text": [
      "Epoch: 28: : 250it [00:01, 213.65it/s]\n"
     ]
    },
    {
     "name": "stdout",
     "output_type": "stream",
     "text": [
      "Train loss for epoch 28: 0.3392410509613971\n"
     ]
    },
    {
     "name": "stderr",
     "output_type": "stream",
     "text": [
      "13it [00:00, 1095.07it/s]\n"
     ]
    },
    {
     "name": "stdout",
     "output_type": "stream",
     "text": [
      "Val loss for epoch 28: 0.11213544919917844\n",
      "\n"
     ]
    },
    {
     "name": "stderr",
     "output_type": "stream",
     "text": [
      "Epoch: 29: : 250it [00:01, 217.45it/s]\n"
     ]
    },
    {
     "name": "stdout",
     "output_type": "stream",
     "text": [
      "Train loss for epoch 29: 0.34681681926855834\n"
     ]
    },
    {
     "name": "stderr",
     "output_type": "stream",
     "text": [
      "13it [00:00, 975.82it/s]\n"
     ]
    },
    {
     "name": "stdout",
     "output_type": "stream",
     "text": [
      "Val loss for epoch 29: 0.016042344438483503\n",
      "\n"
     ]
    },
    {
     "name": "stderr",
     "output_type": "stream",
     "text": [
      "Epoch: 30: : 250it [00:01, 212.48it/s]\n"
     ]
    },
    {
     "name": "stdout",
     "output_type": "stream",
     "text": [
      "Train loss for epoch 30: 0.476710034270719\n"
     ]
    },
    {
     "name": "stderr",
     "output_type": "stream",
     "text": [
      "13it [00:00, 1149.25it/s]\n"
     ]
    },
    {
     "name": "stdout",
     "output_type": "stream",
     "text": [
      "Val loss for epoch 30: 0.05508110344287361\n",
      "\n"
     ]
    },
    {
     "name": "stderr",
     "output_type": "stream",
     "text": [
      "Epoch: 31: : 250it [00:01, 218.04it/s]\n"
     ]
    },
    {
     "name": "stdout",
     "output_type": "stream",
     "text": [
      "Train loss for epoch 31: 0.24936883882256805\n"
     ]
    },
    {
     "name": "stderr",
     "output_type": "stream",
     "text": [
      "13it [00:00, 1125.01it/s]\n"
     ]
    },
    {
     "name": "stdout",
     "output_type": "stream",
     "text": [
      "Val loss for epoch 31: 0.12058251239798594\n",
      "\n"
     ]
    },
    {
     "name": "stderr",
     "output_type": "stream",
     "text": [
      "Epoch: 32: : 250it [00:01, 216.73it/s]\n"
     ]
    },
    {
     "name": "stdout",
     "output_type": "stream",
     "text": [
      "Train loss for epoch 32: 0.303715484257291\n"
     ]
    },
    {
     "name": "stderr",
     "output_type": "stream",
     "text": [
      "13it [00:00, 996.13it/s]\n"
     ]
    },
    {
     "name": "stdout",
     "output_type": "stream",
     "text": [
      "Val loss for epoch 32: 0.19079611529820995\n",
      "\n"
     ]
    },
    {
     "name": "stderr",
     "output_type": "stream",
     "text": [
      "Epoch: 33: : 250it [00:01, 189.78it/s]\n"
     ]
    },
    {
     "name": "stdout",
     "output_type": "stream",
     "text": [
      "Train loss for epoch 33: 0.30955910156341915\n"
     ]
    },
    {
     "name": "stderr",
     "output_type": "stream",
     "text": [
      "13it [00:00, 741.58it/s]\n"
     ]
    },
    {
     "name": "stdout",
     "output_type": "stream",
     "text": [
      "Val loss for epoch 33: 0.012186721270826237\n",
      "\n"
     ]
    },
    {
     "name": "stderr",
     "output_type": "stream",
     "text": [
      "Epoch: 34: : 250it [00:01, 217.78it/s]\n"
     ]
    },
    {
     "name": "stdout",
     "output_type": "stream",
     "text": [
      "Train loss for epoch 34: 0.3312514023411796\n"
     ]
    },
    {
     "name": "stderr",
     "output_type": "stream",
     "text": [
      "13it [00:00, 1111.78it/s]\n"
     ]
    },
    {
     "name": "stdout",
     "output_type": "stream",
     "text": [
      "Val loss for epoch 34: 0.016799563915231464\n",
      "\n"
     ]
    },
    {
     "name": "stderr",
     "output_type": "stream",
     "text": [
      "Epoch: 35: : 250it [00:01, 226.98it/s]\n"
     ]
    },
    {
     "name": "stdout",
     "output_type": "stream",
     "text": [
      "Train loss for epoch 35: 0.4376529912771757\n"
     ]
    },
    {
     "name": "stderr",
     "output_type": "stream",
     "text": [
      "13it [00:00, 1008.84it/s]\n"
     ]
    },
    {
     "name": "stdout",
     "output_type": "stream",
     "text": [
      "Val loss for epoch 35: 0.09266824378840095\n",
      "\n"
     ]
    },
    {
     "name": "stderr",
     "output_type": "stream",
     "text": [
      "Epoch: 36: : 250it [00:01, 216.29it/s]\n"
     ]
    },
    {
     "name": "stdout",
     "output_type": "stream",
     "text": [
      "Train loss for epoch 36: 0.3956440409134234\n"
     ]
    },
    {
     "name": "stderr",
     "output_type": "stream",
     "text": [
      "13it [00:00, 978.39it/s]\n"
     ]
    },
    {
     "name": "stdout",
     "output_type": "stream",
     "text": [
      "Val loss for epoch 36: 0.05457917160549628\n",
      "\n"
     ]
    },
    {
     "name": "stderr",
     "output_type": "stream",
     "text": [
      "Epoch: 37: : 250it [00:01, 223.08it/s]\n"
     ]
    },
    {
     "name": "stdout",
     "output_type": "stream",
     "text": [
      "Train loss for epoch 37: 0.3480557519656833\n"
     ]
    },
    {
     "name": "stderr",
     "output_type": "stream",
     "text": [
      "13it [00:00, 1106.16it/s]\n"
     ]
    },
    {
     "name": "stdout",
     "output_type": "stream",
     "text": [
      "Val loss for epoch 37: 0.06700956312813353\n",
      "\n"
     ]
    },
    {
     "name": "stderr",
     "output_type": "stream",
     "text": [
      "Epoch: 38: : 250it [00:01, 211.47it/s]\n"
     ]
    },
    {
     "name": "stdout",
     "output_type": "stream",
     "text": [
      "Train loss for epoch 38: 0.33382943631837536\n"
     ]
    },
    {
     "name": "stderr",
     "output_type": "stream",
     "text": [
      "13it [00:00, 1179.14it/s]\n"
     ]
    },
    {
     "name": "stdout",
     "output_type": "stream",
     "text": [
      "Val loss for epoch 38: 0.05473366878097194\n",
      "\n"
     ]
    },
    {
     "name": "stderr",
     "output_type": "stream",
     "text": [
      "Epoch: 39: : 250it [00:01, 227.13it/s]\n"
     ]
    },
    {
     "name": "stdout",
     "output_type": "stream",
     "text": [
      "Train loss for epoch 39: 0.4161541388289981\n"
     ]
    },
    {
     "name": "stderr",
     "output_type": "stream",
     "text": [
      "13it [00:00, 1264.66it/s]\n"
     ]
    },
    {
     "name": "stdout",
     "output_type": "stream",
     "text": [
      "Val loss for epoch 39: 0.016314170921784606\n",
      "\n"
     ]
    },
    {
     "name": "stderr",
     "output_type": "stream",
     "text": [
      "Epoch: 40: : 250it [00:01, 225.43it/s]\n"
     ]
    },
    {
     "name": "stdout",
     "output_type": "stream",
     "text": [
      "Train loss for epoch 40: 0.28635129431613054\n"
     ]
    },
    {
     "name": "stderr",
     "output_type": "stream",
     "text": [
      "13it [00:00, 1131.60it/s]\n"
     ]
    },
    {
     "name": "stdout",
     "output_type": "stream",
     "text": [
      "Val loss for epoch 40: 0.13856588914701104\n",
      "\n"
     ]
    },
    {
     "name": "stderr",
     "output_type": "stream",
     "text": [
      "Epoch: 41: : 250it [00:01, 223.18it/s]\n"
     ]
    },
    {
     "name": "stdout",
     "output_type": "stream",
     "text": [
      "Train loss for epoch 41: 0.4617061608716001\n"
     ]
    },
    {
     "name": "stderr",
     "output_type": "stream",
     "text": [
      "13it [00:00, 1058.02it/s]\n"
     ]
    },
    {
     "name": "stdout",
     "output_type": "stream",
     "text": [
      "Val loss for epoch 41: 0.031604974586760565\n",
      "\n"
     ]
    },
    {
     "name": "stderr",
     "output_type": "stream",
     "text": [
      "Epoch: 42: : 250it [00:01, 224.99it/s]\n"
     ]
    },
    {
     "name": "stdout",
     "output_type": "stream",
     "text": [
      "Train loss for epoch 42: 0.32762535949281146\n"
     ]
    },
    {
     "name": "stderr",
     "output_type": "stream",
     "text": [
      "13it [00:00, 1094.68it/s]\n"
     ]
    },
    {
     "name": "stdout",
     "output_type": "stream",
     "text": [
      "Val loss for epoch 42: 0.01817515333665218\n",
      "\n"
     ]
    },
    {
     "name": "stderr",
     "output_type": "stream",
     "text": [
      "Epoch: 43: : 250it [00:01, 223.59it/s]\n"
     ]
    },
    {
     "name": "stdout",
     "output_type": "stream",
     "text": [
      "Train loss for epoch 43: 0.32603334971559966\n"
     ]
    },
    {
     "name": "stderr",
     "output_type": "stream",
     "text": [
      "13it [00:00, 1072.61it/s]\n"
     ]
    },
    {
     "name": "stdout",
     "output_type": "stream",
     "text": [
      "Val loss for epoch 43: 0.1143984284847884\n",
      "\n"
     ]
    },
    {
     "name": "stderr",
     "output_type": "stream",
     "text": [
      "Epoch: 44: : 250it [00:01, 224.31it/s]\n"
     ]
    },
    {
     "name": "stdout",
     "output_type": "stream",
     "text": [
      "Train loss for epoch 44: 0.3126512157193775\n"
     ]
    },
    {
     "name": "stderr",
     "output_type": "stream",
     "text": [
      "13it [00:00, 1045.98it/s]\n"
     ]
    },
    {
     "name": "stdout",
     "output_type": "stream",
     "text": [
      "Val loss for epoch 44: 0.11511246487956896\n",
      "\n"
     ]
    },
    {
     "name": "stderr",
     "output_type": "stream",
     "text": [
      "Epoch: 45: : 250it [00:01, 216.19it/s]\n"
     ]
    },
    {
     "name": "stdout",
     "output_type": "stream",
     "text": [
      "Train loss for epoch 45: 0.3298826367940507\n"
     ]
    },
    {
     "name": "stderr",
     "output_type": "stream",
     "text": [
      "13it [00:00, 985.36it/s]\n"
     ]
    },
    {
     "name": "stdout",
     "output_type": "stream",
     "text": [
      "Val loss for epoch 45: 0.05316357883598166\n",
      "\n"
     ]
    },
    {
     "name": "stderr",
     "output_type": "stream",
     "text": [
      "Epoch: 46: : 250it [00:01, 223.33it/s]\n"
     ]
    },
    {
     "name": "stdout",
     "output_type": "stream",
     "text": [
      "Train loss for epoch 46: 0.3559217011132787\n"
     ]
    },
    {
     "name": "stderr",
     "output_type": "stream",
     "text": [
      "13it [00:00, 1047.65it/s]\n"
     ]
    },
    {
     "name": "stdout",
     "output_type": "stream",
     "text": [
      "Val loss for epoch 46: 0.018095538248953262\n",
      "\n"
     ]
    },
    {
     "name": "stderr",
     "output_type": "stream",
     "text": [
      "Epoch: 47: : 250it [00:01, 212.38it/s]\n"
     ]
    },
    {
     "name": "stdout",
     "output_type": "stream",
     "text": [
      "Train loss for epoch 47: 0.282579395438477\n"
     ]
    },
    {
     "name": "stderr",
     "output_type": "stream",
     "text": [
      "13it [00:00, 1050.92it/s]\n"
     ]
    },
    {
     "name": "stdout",
     "output_type": "stream",
     "text": [
      "Val loss for epoch 47: 0.09417954220565805\n",
      "\n"
     ]
    },
    {
     "name": "stderr",
     "output_type": "stream",
     "text": [
      "Epoch: 48: : 250it [00:01, 221.50it/s]\n"
     ]
    },
    {
     "name": "stdout",
     "output_type": "stream",
     "text": [
      "Train loss for epoch 48: 0.3251859915293955\n"
     ]
    },
    {
     "name": "stderr",
     "output_type": "stream",
     "text": [
      "13it [00:00, 869.62it/s]\n"
     ]
    },
    {
     "name": "stdout",
     "output_type": "stream",
     "text": [
      "Val loss for epoch 48: 0.022878829671347852\n",
      "\n"
     ]
    },
    {
     "name": "stderr",
     "output_type": "stream",
     "text": [
      "Epoch: 49: : 250it [00:01, 216.91it/s]\n"
     ]
    },
    {
     "name": "stdout",
     "output_type": "stream",
     "text": [
      "Train loss for epoch 49: 0.4349157321476518\n"
     ]
    },
    {
     "name": "stderr",
     "output_type": "stream",
     "text": [
      "13it [00:00, 1175.10it/s]"
     ]
    },
    {
     "name": "stdout",
     "output_type": "stream",
     "text": [
      "Val loss for epoch 49: 0.01885728156948279\n",
      "\n",
      "Training Finished\n"
     ]
    },
    {
     "name": "stderr",
     "output_type": "stream",
     "text": [
      "\n"
     ]
    }
   ],
   "source": [
    "train_loss_, val_loss_ = [],[]\n",
    "\n",
    "print(f\"Model is training\\n\")\n",
    "\n",
    "for epoch in range(epochs):\n",
    "    model.train()\n",
    "    train_pbar = tqdm(enumerate(train_dataloader))\n",
    "    for train_batch, (train_inputs, train_labels) in train_pbar:\n",
    "        train_pbar.set_description(f\"Epoch: {epoch}\")\n",
    "        \n",
    "        optimizer.zero_grad()\n",
    "        train_outputs = model(train_inputs)\n",
    "\n",
    "        train_loss = loss_fn(train_outputs, train_labels)\n",
    "        train_loss.backward()\n",
    "        optimizer.step()\n",
    "    \n",
    "    print(f\"Train loss for epoch {epoch}: {train_loss}\")\n",
    "    train_loss_.append(train_loss)\n",
    "\n",
    "    model.eval()\n",
    "    val_pbar = tqdm(enumerate(val_dataloader))\n",
    "    with torch.no_grad():\n",
    "        for val_batch, (val_inputs, val_labels) in val_pbar:\n",
    "            val_outputs = model(val_inputs)\n",
    "            val_loss = loss_fn(val_outputs, val_labels)\n",
    "    \n",
    "    print(f\"Val loss for epoch {epoch}: {val_loss}\\n\")\n",
    "    val_loss_.append(val_loss)\n",
    "\n",
    "print(\"Training Finished\")"
   ]
  },
  {
   "cell_type": "code",
   "execution_count": 19,
   "id": "4e6d9df7",
   "metadata": {
    "execution": {
     "iopub.execute_input": "2025-07-26T07:03:16.658794Z",
     "iopub.status.busy": "2025-07-26T07:03:16.658392Z",
     "iopub.status.idle": "2025-07-26T07:03:17.051987Z",
     "shell.execute_reply": "2025-07-26T07:03:17.050968Z"
    },
    "papermill": {
     "duration": 1.030149,
     "end_time": "2025-07-26T07:03:17.054197",
     "exception": false,
     "start_time": "2025-07-26T07:03:16.024048",
     "status": "completed"
    },
    "tags": []
   },
   "outputs": [
    {
     "name": "stderr",
     "output_type": "stream",
     "text": [
      "/usr/local/lib/python3.11/dist-packages/seaborn/_oldcore.py:1119: FutureWarning: use_inf_as_na option is deprecated and will be removed in a future version. Convert inf values to NaN before operating instead.\n",
      "  with pd.option_context('mode.use_inf_as_na', True):\n",
      "/usr/local/lib/python3.11/dist-packages/seaborn/_oldcore.py:1119: FutureWarning: use_inf_as_na option is deprecated and will be removed in a future version. Convert inf values to NaN before operating instead.\n",
      "  with pd.option_context('mode.use_inf_as_na', True):\n",
      "/usr/local/lib/python3.11/dist-packages/seaborn/_oldcore.py:1075: FutureWarning: When grouping with a length-1 list-like, you will need to pass a length-1 tuple to get_group in a future version of pandas. Pass `(name,)` instead of `name` to silence this warning.\n",
      "  data_subset = grouped_data.get_group(pd_key)\n",
      "/usr/local/lib/python3.11/dist-packages/seaborn/_oldcore.py:1075: FutureWarning: When grouping with a length-1 list-like, you will need to pass a length-1 tuple to get_group in a future version of pandas. Pass `(name,)` instead of `name` to silence this warning.\n",
      "  data_subset = grouped_data.get_group(pd_key)\n"
     ]
    },
    {
     "data": {
      "text/plain": [
       "Text(0.5, 1.0, 'Loss over time for PyTorch model')"
      ]
     },
     "execution_count": 19,
     "metadata": {},
     "output_type": "execute_result"
    },
    {
     "data": {
      "image/png": "[encoded data removed]",
      "text/plain": [
       "<Figure size 640x480 with 1 Axes>"
      ]
     },
     "metadata": {},
     "output_type": "display_data"
    }
   ],
   "source": [
    "loss_history = pl.DataFrame({'Epochs' : range(0, 50), 'Train' : train_loss_, 'Val' : val_loss_})\n",
    "loss_history = loss_history.unpivot(index='Epochs', variable_name='Metric', value_name='Loss')\n",
    "ad = sns.lineplot(x='Epochs', y='Loss', hue='Metric', data=loss_history, palette='Spectral')\n",
    "ad.set_title('Loss over time for PyTorch model')"
   ]
  },
  {
   "cell_type": "code",
   "execution_count": 20,
   "id": "a080a554",
   "metadata": {
    "execution": {
     "iopub.execute_input": "2025-07-26T07:03:18.420282Z",
     "iopub.status.busy": "2025-07-26T07:03:18.419957Z",
     "iopub.status.idle": "2025-07-26T07:03:18.431248Z",
     "shell.execute_reply": "2025-07-26T07:03:18.429933Z"
    },
    "papermill": {
     "duration": 0.660926,
     "end_time": "2025-07-26T07:03:18.433236",
     "exception": false,
     "start_time": "2025-07-26T07:03:17.772310",
     "status": "completed"
    },
    "tags": []
   },
   "outputs": [],
   "source": [
    "model.eval()\n",
    "with torch.no_grad():\n",
    "    test_input, test_label = next(iter(test_dataloader))\n",
    "    test_output = model(test_input)\n",
    "    preds = (test_output > 0.5).to(torch.int)\n",
    "    accuracies['Models'].append('PyTorch')\n",
    "    accuracies['Accuracies'].append(accuracy_score(test_label, preds))"
   ]
  },
  {
   "cell_type": "code",
   "execution_count": 21,
   "id": "7436786b",
   "metadata": {
    "execution": {
     "iopub.execute_input": "2025-07-26T07:03:19.800816Z",
     "iopub.status.busy": "2025-07-26T07:03:19.800284Z",
     "iopub.status.idle": "2025-07-26T07:03:20.526429Z",
     "shell.execute_reply": "2025-07-26T07:03:20.525580Z"
    },
    "papermill": {
     "duration": 1.363486,
     "end_time": "2025-07-26T07:03:20.528363",
     "exception": false,
     "start_time": "2025-07-26T07:03:19.164877",
     "status": "completed"
    },
    "tags": []
   },
   "outputs": [
    {
     "name": "stderr",
     "output_type": "stream",
     "text": [
      "/usr/local/lib/python3.11/dist-packages/seaborn/_oldcore.py:1765: FutureWarning: unique with argument that is not not a Series, Index, ExtensionArray, or np.ndarray is deprecated and will raise in a future version.\n",
      "  order = pd.unique(vector)\n",
      "/usr/local/lib/python3.11/dist-packages/seaborn/_oldcore.py:1765: FutureWarning: unique with argument that is not not a Series, Index, ExtensionArray, or np.ndarray is deprecated and will raise in a future version.\n",
      "  order = pd.unique(vector)\n"
     ]
    },
    {
     "data": {
      "text/plain": [
       "Text(0.5, 1.0, 'Accuracies from Models')"
      ]
     },
     "execution_count": 21,
     "metadata": {},
     "output_type": "execute_result"
    },
    {
     "data": {
      "image/png": "[encoded data removed]",
      "text/plain": [
       "<Figure size 640x480 with 1 Axes>"
      ]
     },
     "metadata": {},
     "output_type": "display_data"
    }
   ],
   "source": [
    "ax = sns.barplot(x=\"Accuracies\", y=\"Models\", data=accuracies, hue=\"Models\", palette=\"Spectral\")\n",
    "ax.set_title(\"Accuracies from Models\")"
   ]
  }
 ],
 "metadata": {
  "kaggle": {
   "accelerator": "none",
   "dataSources": [
    {
     "datasetId": 7841478,
     "sourceId": 12431464,
     "sourceType": "datasetVersion"
    }
   ],
   "dockerImageVersionId": 31089,
   "isGpuEnabled": false,
   "isInternetEnabled": false,
   "language": "python",
   "sourceType": "notebook"
  },
  "kernelspec": {
   "display_name": "Python 3",
   "language": "python",
   "name": "python3"
  },
  "language_info": {
   "codemirror_mode": {
    "name": "ipython",
    "version": 3
   },
   "file_extension": ".py",
   "mimetype": "text/x-python",
   "name": "python",
   "nbconvert_exporter": "python",
   "pygments_lexer": "ipython3",
   "version": "3.11.13"
  },
  "papermill": {
   "default_parameters": {},
   "duration": 100.458736,
   "end_time": "2025-07-26T07:03:23.902474",
   "environment_variables": {},
   "exception": null,
   "input_path": "__notebook__.ipynb",
   "output_path": "__notebook__.ipynb",
   "parameters": {},
   "start_time": "2025-07-26T07:01:43.443738",
   "version": "2.6.0"
  }
 },
 "nbformat": 4,
 "nbformat_minor": 5
}
